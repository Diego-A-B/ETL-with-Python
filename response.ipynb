{
 "cells": [
  {
   "cell_type": "markdown",
   "metadata": {},
   "source": [
    "### Repackaged Response"
   ]
  },
  {
   "cell_type": "code",
   "execution_count": 13,
   "metadata": {},
   "outputs": [],
   "source": [
    "import pandas as pd\n",
    "import numpy as np\n",
    "from bs4 import BeautifulSoup\n",
    "import requests as req \n",
    "\n",
    "def read_google_doc(url):\n",
    "    \"\"\"This function sracpes the table within a google doc url and turns the table into a pandas dataframe\n",
    "    INPUT: Google doc URL\n",
    "    OUTPUT: Pandas Dataframe with expected columns of 'x-coordinate', 'y-coordinate', and 'Character'\n",
    "    \"\"\"\n",
    "    response = req.get(url)   #access url\n",
    "    \n",
    "\n",
    "    #reading the table by headers and row/cell:\n",
    "    soup = BeautifulSoup(response.text, 'html.parser')\n",
    "    table = soup.find('table')  \n",
    "    \n",
    "    \n",
    "    if not table:\n",
    "        raise Exception(\"No table found in the document\")\n",
    "    \n",
    "\n",
    "    headers = [header.get_text() for header in table.find_all('th')]\n",
    "    \n",
    "    \n",
    "    if not headers:\n",
    "        first_row = table.find_all('tr')[0]\n",
    "        headers = [cell.get_text() for cell in first_row.find_all('td')]\n",
    "    \n",
    "    rows = []\n",
    "\n",
    "    for row in table.find_all('tr')[1:]: \n",
    "        cells = row.find_all('td')\n",
    "        row_data = [cell.get_text() for cell in cells]\n",
    "        \n",
    "        if len(row_data) == len(headers):\n",
    "            rows.append(row_data)\n",
    "        \n",
    "    df = pd.DataFrame(rows, columns=headers)            \n",
    "    \n",
    "    return df\n",
    "    \n",
    "    \n",
    "    \n",
    "def print_data(data):\n",
    "    \"\"\"THis function takes in the expected dataframe with column headers; 'x-coordinate', 'y-coordinate', and 'Character',\n",
    "    and prints out the character at it's associated coordinate. \n",
    "    INPUT: Dataframe with the expected headers\n",
    "    OUTPUT: the characters at their respective coordinate \"\"\"\n",
    "    \n",
    "    data[['x-coordinate','y-coordinate']] = data[['x-coordinate','y-coordinate']].astype(int) # changing data type of the coordinates\n",
    "    grid = np.full(( data['y-coordinate'].max()+1 , data['x-coordinate'].max()+1) , '', str) #initializing the 2-D array\n",
    "    for i, row in data.iterrows():\n",
    "\n",
    "        grid[data['y-coordinate'].max()-row['y-coordinate']][row['x-coordinate']]= row['Character']\n",
    "        \n",
    "    for row in grid:\n",
    "        print(''.join(row))\n",
    "        \n",
    "    \n",
    "    "
   ]
  },
  {
   "cell_type": "code",
   "execution_count": 14,
   "metadata": {},
   "outputs": [],
   "source": [
    "doc_table = read_google_doc()#insert URL; redacted on purpose\n"
   ]
  },
  {
   "cell_type": "code",
   "execution_count": 15,
   "metadata": {},
   "outputs": [
    {
     "name": "stdout",
     "output_type": "stream",
     "text": [
      "█▀▀▀\n",
      "█▀▀\n",
      "█\n"
     ]
    }
   ],
   "source": [
    "print_data(doc_table)"
   ]
  },
  {
   "cell_type": "code",
   "execution_count": null,
   "metadata": {},
   "outputs": [],
   "source": []
  }
 ],
 "metadata": {
  "kernelspec": {
   "display_name": "base",
   "language": "python",
   "name": "python3"
  },
  "language_info": {
   "codemirror_mode": {
    "name": "ipython",
    "version": 3
   },
   "file_extension": ".py",
   "mimetype": "text/x-python",
   "name": "python",
   "nbconvert_exporter": "python",
   "pygments_lexer": "ipython3",
   "version": "3.10.9"
  }
 },
 "nbformat": 4,
 "nbformat_minor": 2
}
